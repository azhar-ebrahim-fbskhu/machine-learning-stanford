{
  "cells": [
    {
      "cell_type": "markdown",
      "source": [
        "# NumPy and Vectorization"
      ],
      "metadata": {
        "id": "sGkJUOYtSgtH"
      }
    },
    {
      "cell_type": "code",
      "execution_count": 1,
      "metadata": {
        "pycharm": {
          "name": "#%%\n"
        },
        "id": "CycOkWvjIsp_"
      },
      "outputs": [],
      "source": [
        "import numpy as np\n",
        "import time"
      ]
    },
    {
      "cell_type": "markdown",
      "metadata": {
        "pycharm": {
          "name": "#%% md\n"
        },
        "id": "q1nT8OrGIsqC"
      },
      "source": [
        "\n",
        "## Useful References\n",
        "- NumPy Documentation including a basic introduction: [NumPy.org](https://NumPy.org/doc/stable/)\n",
        "- A challenging feature topic: [NumPy Broadcasting](https://NumPy.org/doc/stable/user/basics.broadcasting.html)\n"
      ]
    },
    {
      "cell_type": "markdown",
      "source": [
        "# Vectors\n",
        " - Vectors are ordered arrays of numbers.\n",
        " - The number of elements in the array is often referred to as the dimension though mathematicians may prefer *rank*.\n",
        " - The elements of a vector can be referenced with an index. In math settings, indexes typically run from 1 to n. In computer science indexing will typically run from 0 to n-1.\n",
        " - The $0^{th}$ element, of the vector $\\mathbf{x}$ is $x_0$.\n"
      ],
      "metadata": {
        "id": "3xrNiuR5T53a"
      }
    },
    {
      "cell_type": "markdown",
      "source": [
        "# Vector Creation"
      ],
      "metadata": {
        "id": "8CjkEbp3UOGu"
      }
    },
    {
      "cell_type": "code",
      "source": [
        "a = np.zeros(4);\n",
        "\n",
        "print(a)                        # [0. 0. 0. 0.]\n",
        "print(a.shape)                  # (4,)\n",
        "print(a.shape[0])               #  4\n",
        "print(a.dtype)                  # float64\n",
        "\n",
        "b = np.random.random_sample(4)\n",
        "\n",
        "print(b)                        # random array, example: [0.18196338 0.84879154 0.11797209 0.24751849]\n",
        "print(b.shape)                  # (4,)\n",
        "print(b.shape[0])               #  4\n",
        "print(b.dtype)                  # float64"
      ],
      "metadata": {
        "colab": {
          "base_uri": "https://localhost:8080/"
        },
        "id": "XbvJU7e7UkwX",
        "outputId": "4cb58902-5e6e-4c9a-c11a-1c5ed0b32664"
      },
      "execution_count": 3,
      "outputs": [
        {
          "output_type": "stream",
          "name": "stdout",
          "text": [
            "[0. 0. 0. 0.]\n",
            "(4,)\n",
            "4\n",
            "float64\n",
            "[0.9129051  0.93204295 0.80457786 0.62561488]\n",
            "(4,)\n",
            "4\n",
            "float64\n"
          ]
        }
      ]
    },
    {
      "cell_type": "markdown",
      "metadata": {
        "pycharm": {
          "name": "#%% md\n"
        },
        "id": "qOfTETBRIsqF"
      },
      "source": [
        "Some data creation routines do not take a shape tuple:"
      ]
    },
    {
      "cell_type": "code",
      "source": [
        "a = np.arange(4.)\n",
        "\n",
        "print(a)               # [0. 1. 2. 3.]\n",
        "\n",
        "print(a.shape)         # (4,)\n",
        "print(a.shape[0])      #  4\n",
        "print(a.dtype)         # float64"
      ],
      "metadata": {
        "colab": {
          "base_uri": "https://localhost:8080/"
        },
        "id": "za5jyOkvXwU7",
        "outputId": "9b546b1c-c45e-4cba-8beb-0c18d0ea4dab"
      },
      "execution_count": 4,
      "outputs": [
        {
          "output_type": "stream",
          "name": "stdout",
          "text": [
            "[0. 1. 2. 3.]\n",
            "(4,)\n",
            "4\n",
            "float64\n"
          ]
        }
      ]
    },
    {
      "cell_type": "markdown",
      "metadata": {
        "pycharm": {
          "name": "#%% md\n"
        },
        "id": "N5WPELK1IsqG"
      },
      "source": [
        "Values can be specified manually"
      ]
    },
    {
      "cell_type": "code",
      "source": [
        "a = np.array([5,4,3,2])\n",
        "b = np.array([5.,4,3,2])\n",
        "\n",
        "print(a)              # [5 4 3 2]\n",
        "print(a.shape)        # (4,)\n",
        "print(a.shape[0])     # 4\n",
        "print(a.dtype)        # int64\n",
        "\n",
        "print(b)              # [5. 4. 3. 2.]\n",
        "print(b.shape)        # (4,)\n",
        "print(b.shape[0])     # 4\n",
        "print(b.dtype)        # float64"
      ],
      "metadata": {
        "colab": {
          "base_uri": "https://localhost:8080/"
        },
        "id": "6tJnWFRUZHyz",
        "outputId": "f068f8b0-0c3b-4c3c-8032-23e36b2e57ce"
      },
      "execution_count": 5,
      "outputs": [
        {
          "output_type": "stream",
          "name": "stdout",
          "text": [
            "[5 4 3 2]\n",
            "(4,)\n",
            "4\n",
            "int64\n",
            "[5. 4. 3. 2.]\n",
            "(4,)\n",
            "4\n",
            "float64\n"
          ]
        }
      ]
    },
    {
      "cell_type": "markdown",
      "metadata": {
        "pycharm": {
          "name": "#%% md\n"
        },
        "id": "vdEBMZrwIsqH"
      },
      "source": [
        "These have all created a one-dimensional vector  `a` with four elements. `a.shape` returns the dimensions. Here we see a.shape = `(4,)` indicating a 1-d array with 4 elements.  "
      ]
    },
    {
      "cell_type": "markdown",
      "metadata": {
        "pycharm": {
          "name": "#%% md\n"
        },
        "id": "iJtiWlvoIsqH"
      },
      "source": [
        "\n",
        "## Operations on Vectors\n",
        "\n",
        "### Indexing\n",
        "Elements of vectors can be accessed via indexing and slicing.\n",
        "\n",
        "- **Indexing** means referring to *an element* of an array by its position within the array.  \n",
        "- **Slicing** means getting a *subset* of elements from an array based on their indices.  \n",
        "\n",
        "NumPy starts indexing at zero so the 3rd element of a vector $\\mathbf{a}$ is `a[2]`."
      ]
    },
    {
      "cell_type": "code",
      "source": [
        "a = np.arange(10)\n",
        "\n",
        "print(a)              # [0 1 2 3 4 5 6 7 8 9]\n",
        "print(a[2])           # 2\n",
        "print(a[2].shape)     # ()\n",
        "\n",
        "print(a[-1])          # 9 (ie. the last element)"
      ],
      "metadata": {
        "colab": {
          "base_uri": "https://localhost:8080/"
        },
        "id": "Fwgj_vVgagUl",
        "outputId": "1b321072-e5ba-4b21-f965-33203b2f56ad"
      },
      "execution_count": 6,
      "outputs": [
        {
          "output_type": "stream",
          "name": "stdout",
          "text": [
            "[0 1 2 3 4 5 6 7 8 9]\n",
            "2\n",
            "()\n",
            "9\n"
          ]
        }
      ]
    },
    {
      "cell_type": "markdown",
      "source": [
        "### Slicing\n",
        "Slicing creates an array of indices using a set of three values (`start:stop:step`). A subset of values is also valid."
      ],
      "metadata": {
        "id": "lnLfePaHbugp"
      }
    },
    {
      "cell_type": "code",
      "source": [
        "a = np.arange(10)\n",
        "\n",
        "print(a)           # [0 1 2 3 4 5 6 7 8 9]\n",
        "\n",
        "b = a[0:7:1]       # [0 1 2 3 4 5 6]\n",
        "\n",
        "c = a[0:7:2]       # [0 2 4 6]\n",
        "\n",
        "d = a[3:]          # [3 4 5 6 7 8 9]\n",
        "\n",
        "e = a[:3]          # [0 1 2]\n",
        "\n",
        "f = a[:]           # [0 1 2 3 4 5 6 7 8 9]\n"
      ],
      "metadata": {
        "colab": {
          "base_uri": "https://localhost:8080/"
        },
        "id": "9gRRRiO2byLM",
        "outputId": "be9b6d9c-e249-4c3f-a173-2594aaa7df93"
      },
      "execution_count": 7,
      "outputs": [
        {
          "output_type": "stream",
          "name": "stdout",
          "text": [
            "[0 1 2 3 4 5 6 7 8 9]\n"
          ]
        }
      ]
    },
    {
      "cell_type": "markdown",
      "metadata": {
        "pycharm": {
          "name": "#%% md\n"
        },
        "id": "eeKnqeCLIsqJ"
      },
      "source": [
        "\n",
        "### Single vector operations"
      ]
    },
    {
      "cell_type": "code",
      "source": [
        "a = np.array([1,2,3,4])\n",
        "\n",
        "print(a)                       # [1 2 3 4]\n",
        "\n",
        "b = -a\n",
        "print(b)                       # [-1 -2 -3 -4]\n",
        "\n",
        "b = np.sum(a)\n",
        "print(b)                       # 10\n",
        "\n",
        "b = np.mean(a)\n",
        "print(b)                       # 2.5\n",
        "\n",
        "b = a**2\n",
        "print(b)                       # [1 4 9 16]\n",
        "\n"
      ],
      "metadata": {
        "colab": {
          "base_uri": "https://localhost:8080/"
        },
        "id": "ot1mqylneUAr",
        "outputId": "9f1a7b14-c605-416c-e84c-50100621bc62"
      },
      "execution_count": 8,
      "outputs": [
        {
          "output_type": "stream",
          "name": "stdout",
          "text": [
            "[1 2 3 4]\n",
            "[-1 -2 -3 -4]\n",
            "10\n",
            "2.5\n",
            "[ 1  4  9 16]\n"
          ]
        }
      ]
    },
    {
      "cell_type": "markdown",
      "source": [
        "### Vector Vector element-wise operations"
      ],
      "metadata": {
        "id": "2SAV9ROufY_F"
      }
    },
    {
      "cell_type": "code",
      "execution_count": 9,
      "metadata": {
        "pycharm": {
          "name": "#%%\n"
        },
        "colab": {
          "base_uri": "https://localhost:8080/"
        },
        "id": "HpgF3V8AIsqK",
        "outputId": "6eb0178b-b285-40f4-e7d0-42e7eb0e373b"
      },
      "outputs": [
        {
          "output_type": "stream",
          "name": "stdout",
          "text": [
            "[0 0 6 8]\n"
          ]
        }
      ],
      "source": [
        "a = np.array([ 1, 2, 3, 4])\n",
        "b = np.array([-1,-2, 3, 4])\n",
        "\n",
        "c = a + b\n",
        "print(c)                          # [0 0 6 8]"
      ]
    },
    {
      "cell_type": "markdown",
      "metadata": {
        "pycharm": {
          "name": "#%% md\n"
        },
        "id": "lCJR9fV_IsqL"
      },
      "source": [
        "\n",
        "### Scalar Vector operations\n",
        "Vectors can be 'scaled' by scalar values. A scalar value is just a number. The scalar multiplies all the elements of the vector."
      ]
    },
    {
      "cell_type": "code",
      "execution_count": 10,
      "metadata": {
        "pycharm": {
          "name": "#%%\n"
        },
        "colab": {
          "base_uri": "https://localhost:8080/"
        },
        "id": "wUxEx4VuIsqL",
        "outputId": "ca1adedd-9ead-453e-d727-af442cd5ad84"
      },
      "outputs": [
        {
          "output_type": "stream",
          "name": "stdout",
          "text": [
            "[ 5 10 15 20]\n"
          ]
        }
      ],
      "source": [
        "a = np.array([1, 2, 3, 4])\n",
        "\n",
        "b = 5 * a\n",
        "print(b)                        # [5 10 15 20]"
      ]
    },
    {
      "cell_type": "markdown",
      "source": [
        "### Vector Vector dot product"
      ],
      "metadata": {
        "id": "YMs_QUvng8cf"
      }
    },
    {
      "cell_type": "markdown",
      "metadata": {
        "pycharm": {
          "name": "#%% md\n"
        },
        "id": "WG38QZKtIsqM"
      },
      "source": [
        "The dot product multiplies the values in two vectors element-wise and then sums the result.\n",
        "Vector dot product requires the dimensions of the two vectors to be the same."
      ]
    },
    {
      "cell_type": "markdown",
      "metadata": {
        "pycharm": {
          "name": "#%% md\n"
        },
        "id": "xrVxp2JHIsqM"
      },
      "source": [
        "\n",
        "**Using a for loop**, implement a function which returns the dot product of two vectors. The function to return given inputs $a$ and $b$:\n",
        "$$ x = \\sum_{i=0}^{n-1} a_i b_i $$\n",
        "Assume both `a` and `b` are the same shape."
      ]
    },
    {
      "cell_type": "code",
      "source": [
        "def dotProduct(a, b):\n",
        "  # Computes the dot product of two vectors\n",
        "  m = a.shape[0]\n",
        "\n",
        "  dot_product = 0\n",
        "  for i in range(m):\n",
        "    f = a[i] * b[i]\n",
        "    dot_product += f\n",
        "\n",
        "  return dot_product\n"
      ],
      "metadata": {
        "id": "tX5Sp0n1hSag"
      },
      "execution_count": 19,
      "outputs": []
    },
    {
      "cell_type": "code",
      "execution_count": 18,
      "metadata": {
        "pycharm": {
          "name": "#%%\n"
        },
        "colab": {
          "base_uri": "https://localhost:8080/"
        },
        "id": "Lr1Gx2hYIsqS",
        "outputId": "88197da4-aec7-4457-c9c4-5445c0ad1787"
      },
      "outputs": [
        {
          "output_type": "stream",
          "name": "stdout",
          "text": [
            "70\n",
            "11\n"
          ]
        }
      ],
      "source": [
        "a = np.array([1, 2, 3, 4])\n",
        "b = np.array([5, 6, 7, 8])\n",
        "\n",
        "print(dotProduct(a,b))\n",
        "\n",
        "x = np.array([1, 3, 2])\n",
        "y = np.array([3, 2, 1])\n",
        "\n",
        "print(dotProduct(x,y))"
      ]
    },
    {
      "cell_type": "markdown",
      "metadata": {
        "pycharm": {
          "name": "#%% md\n"
        },
        "id": "ZDyfijWmIsqT"
      },
      "source": [
        "Note, the dot product is expected to return a scalar value.\n",
        "\n",
        "The same operations using `np.dot`.  "
      ]
    },
    {
      "cell_type": "code",
      "execution_count": 13,
      "metadata": {
        "pycharm": {
          "name": "#%%\n"
        },
        "colab": {
          "base_uri": "https://localhost:8080/"
        },
        "id": "Qx5vmnmgIsqT",
        "outputId": "ecbbd8b5-b189-4146-db50-fc2ab8e96221"
      },
      "outputs": [
        {
          "output_type": "stream",
          "name": "stdout",
          "text": [
            "24\n",
            "24\n"
          ]
        }
      ],
      "source": [
        "a = np.array([1, 2, 3, 4])\n",
        "b = np.array([-1, 4, 3, 2])\n",
        "\n",
        "c = np.dot(a, b)\n",
        "print(c)\n",
        "c = np.dot(b, a)\n",
        "print(c)"
      ]
    },
    {
      "cell_type": "markdown",
      "metadata": {
        "pycharm": {
          "name": "#%% md\n"
        },
        "id": "HiejKlcsIsqa"
      },
      "source": [
        "## The Need for Speed: vector vs for loop\n",
        "We utilized the NumPy  library because it improves speed memory efficiency. Let's demonstrate:"
      ]
    },
    {
      "cell_type": "code",
      "source": [
        "x = 30\n",
        "print(f\"{x:.4f}\")"
      ],
      "metadata": {
        "colab": {
          "base_uri": "https://localhost:8080/"
        },
        "id": "ji-n8ODTlPxm",
        "outputId": "fb43dd7f-74cf-4efb-fbc7-5e2359037226"
      },
      "execution_count": 11,
      "outputs": [
        {
          "output_type": "stream",
          "name": "stdout",
          "text": [
            "30.0000\n"
          ]
        }
      ]
    },
    {
      "cell_type": "code",
      "source": [
        "np.random.seed(1)\n",
        "'''\n",
        "Calling np.random.seed(1) ensures that the random number generation starts\n",
        "from the same state each time you run the code, so the values of a and b will\n",
        "be the same across different runs, provided that the code leading to their\n",
        "generation remains the same.(NB. a is not equal to b)\n",
        "'''\n",
        "a = np.random.rand(10000000)\n",
        "b = np.random.rand(10000000)\n",
        "\n",
        "# Vectorized version\n",
        "start_time = time.time()\n",
        "c = np.dot(a,b)\n",
        "end_time = time.time()\n",
        "\n",
        "print(f\"{c:.4f}\") # dot product to four decimal points\n",
        "print(f\"Vectorized version time: {1000*(end_time-start_time):.4f} ms\")\n",
        "\n",
        "# Loop Version\n",
        "start_time = time.time()\n",
        "c = dotProduct(a,b)\n",
        "end_time = time.time()\n",
        "\n",
        "print(f\"{c:.4f}\") # dot product to four decimal points\n",
        "print(f\"Loop version time: {1000*(end_time-start_time):.4f} ms\")"
      ],
      "metadata": {
        "colab": {
          "base_uri": "https://localhost:8080/"
        },
        "id": "njQoT0lg0_VQ",
        "outputId": "803ead0a-8fe2-4647-ce47-c69be5d298b5"
      },
      "execution_count": 22,
      "outputs": [
        {
          "output_type": "stream",
          "name": "stdout",
          "text": [
            "2501072.5817\n",
            "Vectorized version time: 12.9504 ms\n",
            "2501072.5817\n",
            "Loop version time: 3715.7433 ms\n"
          ]
        }
      ]
    },
    {
      "cell_type": "markdown",
      "metadata": {
        "pycharm": {
          "name": "#%% md\n"
        },
        "id": "7xsZ1_NBIsqb"
      },
      "source": [
        "Vectorization provides a large speed up.\n",
        "\n",
        "- This is because NumPy makes better use of available data parallelism in the underlying hardware.\n",
        "- GPU's and modern CPU's implement Single Instruction, Multiple Data (SIMD) pipelines allowing multiple operations to be issued in parallel.\n",
        "- This is critical in Machine Learning where the data sets are often very large."
      ]
    },
    {
      "cell_type": "markdown",
      "metadata": {
        "pycharm": {
          "name": "#%% md\n"
        },
        "id": "jWJK-KFJIsqj"
      },
      "source": [
        "\n",
        "### Vector Vector operations\n",
        "\n",
        "- Going forward, examples will be stored in an array, `X_train` of dimension (m,n). It is a 2 Dimensional array or matrix.\n",
        "\n",
        "- `w` will be a 1-dimensional vector of shape (n,).\n",
        "- we will perform operations by looping through the examples, extracting each example to work on individually by indexing X. For example:`X[i]`\n",
        "- `X[i]` returns a value of shape (n,), a 1-dimensional vector. Consequently, operations involving `X[i]` are often vector-vector.  "
      ]
    },
    {
      "cell_type": "code",
      "source": [
        "X = np.array([[1],[2],[3],[4]])\n",
        "\n",
        "print(\"For X:\")\n",
        "print(X)\n",
        "print(X.shape)\n",
        "print(X.shape[0])\n",
        "print(X[1].shape)\n",
        "\n",
        "w = np.array([2])\n",
        "print(\"\\nFor w:\")\n",
        "print(w)\n",
        "print(w.shape)\n",
        "print(w.shape[0])\n",
        "print(w[0].shape)\n",
        "\n",
        "c = np.dot(X[1], w)\n",
        "print(\"\\nFor c:\")\n",
        "print(c)\n",
        "print(c.shape)\n",
        "\n"
      ],
      "metadata": {
        "colab": {
          "base_uri": "https://localhost:8080/"
        },
        "id": "CTZG7z4P_LBF",
        "outputId": "de241ded-7395-451c-f627-041014685489"
      },
      "execution_count": 37,
      "outputs": [
        {
          "output_type": "stream",
          "name": "stdout",
          "text": [
            "For X:\n",
            "[[1]\n",
            " [2]\n",
            " [3]\n",
            " [4]]\n",
            "(4, 1)\n",
            "4\n",
            "(1,)\n",
            "\n",
            "For w:\n",
            "[2]\n",
            "(1,)\n",
            "1\n",
            "()\n",
            "\n",
            "For c:\n",
            "4\n",
            "()\n"
          ]
        }
      ]
    },
    {
      "cell_type": "markdown",
      "metadata": {
        "pycharm": {
          "name": "#%% md\n"
        },
        "id": "BN4TQBCMIsqk"
      },
      "source": [
        "\n",
        "# Matrices\n"
      ]
    },
    {
      "cell_type": "markdown",
      "metadata": {
        "pycharm": {
          "name": "#%% md\n"
        },
        "id": "_vQ8BC1UIsqk"
      },
      "source": [
        "- Matrices, are two dimensional arrays. The elements of a matrix are all of the same type.\n",
        "- The elements of a matrix can be referenced with a two dimensional index.   \n"
      ]
    },
    {
      "cell_type": "markdown",
      "metadata": {
        "pycharm": {
          "name": "#%% md\n"
        },
        "id": "qUj8kBc-Isql"
      },
      "source": [
        "## NumPy Arrays\n",
        "\n",
        "- Matrices have a two-dimensional (2-D) index [m,n].\n",
        "- 2-D matrices are used to hold training data."
      ]
    },
    {
      "cell_type": "markdown",
      "metadata": {
        "pycharm": {
          "name": "#%% md\n"
        },
        "id": "Nm9HNMf3Isql"
      },
      "source": [
        "## Matrix Creation"
      ]
    },
    {
      "cell_type": "code",
      "execution_count": null,
      "metadata": {
        "pycharm": {
          "name": "#%%\n"
        },
        "id": "1oxhghW1Isql",
        "outputId": "e759ae7e-8f33-4bfa-c78d-9bef25c2a90c"
      },
      "outputs": [
        {
          "name": "stdout",
          "output_type": "stream",
          "text": [
            "a shape = (1, 5), a = [[0. 0. 0. 0. 0.]]\n",
            "a shape = (2, 1), a = [[0.]\n",
            " [0.]]\n",
            "a shape = (1, 1), a = [[0.44236513]]\n"
          ]
        }
      ],
      "source": [
        "a = np.zeros((1, 5))\n",
        "print(f\"a shape = {a.shape}, a = {a}\")\n",
        "\n",
        "a = np.zeros((2, 1))\n",
        "print(f\"a shape = {a.shape}, a = {a}\")\n",
        "\n",
        "a = np.random.random_sample((1, 1))\n",
        "print(f\"a shape = {a.shape}, a = {a}\")"
      ]
    },
    {
      "cell_type": "code",
      "source": [
        "a = np.zeros((1, 5))\n",
        "print(a)                   # [[0. 0. 0. 0. 0.]]\n",
        "print(a.shape)             # (1, 5)\n",
        "\n",
        "a = np.zeros((2, 1))\n",
        "print(a)                   # [[0.],[0.]]\n",
        "print(a.shape)             # (2, 1)\n",
        "\n",
        "a = np.random.random_sample((1, 1))\n",
        "print(a)                   # [[0.16252618]] random number\n",
        "print(a.shape)             # (1, 1)"
      ],
      "metadata": {
        "colab": {
          "base_uri": "https://localhost:8080/"
        },
        "id": "1otcdkySCfB8",
        "outputId": "76251b2a-8bfa-46de-ef45-27400c4160f9"
      },
      "execution_count": 46,
      "outputs": [
        {
          "output_type": "stream",
          "name": "stdout",
          "text": [
            "[[0. 0. 0. 0. 0.]]\n",
            "(1, 5)\n",
            "[[0.]\n",
            " [0.]]\n",
            "(2, 1)\n",
            "[[0.77390955]]\n",
            "(1, 1)\n"
          ]
        }
      ]
    },
    {
      "cell_type": "markdown",
      "metadata": {
        "pycharm": {
          "name": "#%% md\n"
        },
        "id": "UK0G4V9-Isqm"
      },
      "source": [
        "Dimensions are specified with additional brackets matching the format in the printing above."
      ]
    },
    {
      "cell_type": "code",
      "source": [
        "a = np.array([[5], [4], [3]])\n",
        "\n",
        "print(a)\n",
        "print(a.shape)\n"
      ],
      "metadata": {
        "colab": {
          "base_uri": "https://localhost:8080/"
        },
        "id": "n8BtKDv9GfIB",
        "outputId": "c76161a3-ad99-463a-8a31-4106df70dfb1"
      },
      "execution_count": 3,
      "outputs": [
        {
          "output_type": "stream",
          "name": "stdout",
          "text": [
            "[[5]\n",
            " [4]\n",
            " [3]]\n",
            "(3, 1)\n"
          ]
        }
      ]
    },
    {
      "cell_type": "markdown",
      "metadata": {
        "pycharm": {
          "name": "#%% md\n"
        },
        "id": "FII9sF8YIsqn"
      },
      "source": [
        "## Operations on Matrices"
      ]
    },
    {
      "cell_type": "markdown",
      "metadata": {
        "pycharm": {
          "name": "#%% md\n"
        },
        "id": "lgNbaXejIsqn"
      },
      "source": [
        "### Indexing\n"
      ]
    },
    {
      "cell_type": "markdown",
      "metadata": {
        "pycharm": {
          "name": "#%% md\n"
        },
        "id": "6RROLAQpIsqo"
      },
      "source": [
        "- The two indexes describe [row, column].\n",
        "- Access can either return an element or a row/column."
      ]
    },
    {
      "cell_type": "code",
      "execution_count": null,
      "metadata": {
        "pycharm": {
          "name": "#%%\n"
        },
        "id": "5azHByoFIsqo",
        "outputId": "f6811d82-9795-4977-8d99-e1aad4f5062d"
      },
      "outputs": [
        {
          "name": "stdout",
          "output_type": "stream",
          "text": [
            "a.shape: (3, 2), \n",
            "a= [[0 1]\n",
            " [2 3]\n",
            " [4 5]]\n",
            "\n",
            "a[2,0].shape:   (), a[2,0] = 4,     type(a[2,0]) = <class 'numpy.int64'> Accessing an element returns a scalar\n",
            "\n",
            "a[2].shape:   (2,), a[2]   = [4 5], type(a[2])   = <class 'numpy.ndarray'>\n"
          ]
        }
      ],
      "source": [
        "#vector indexing operations on matrices\n",
        "a = np.arange(6).reshape(-1, 2)   #reshape is a convenient way to create matrices\n",
        "print(f\"a.shape: {a.shape}, \\na= {a}\")\n",
        "\n",
        "#access an element\n",
        "print(f\"\\na[2,0].shape:   {a[2, 0].shape}, a[2,0] = {a[2, 0]},     type(a[2,0]) = {type(a[2, 0])} Accessing an element returns a scalar\\n\")\n",
        "\n",
        "#access a row\n",
        "print(f\"a[2].shape:   {a[2].shape}, a[2]   = {a[2]}, type(a[2])   = {type(a[2])}\")"
      ]
    },
    {
      "cell_type": "code",
      "source": [
        "a = np.arange(6).reshape(-1, 2)\n",
        "'''\n",
        "This reshapes the array into a 2D array with 2 columns (because of the 2).\n",
        "The -1 in reshape is a placeholder that means \"infer the appropriate number\n",
        "of rows based on the total number of elements and the number of columns\".\n",
        "In this case, since there are 6 elements and we want 2 columns, the array\n",
        "will be reshaped into 3 rows (because 6/2 =3).\n",
        "'''\n",
        "print(a)                         # [[0 1], [2 3], [4 5]]\n",
        "print(a.shape)                   # (3, 2)\n",
        "print(a[2])                      # [4 5]\n",
        "print(a[2][0])                   #  4"
      ],
      "metadata": {
        "colab": {
          "base_uri": "https://localhost:8080/"
        },
        "id": "SR5ua_DOHf7m",
        "outputId": "a69149ab-d124-443a-a31d-15d49f4ab59e"
      },
      "execution_count": 9,
      "outputs": [
        {
          "output_type": "stream",
          "name": "stdout",
          "text": [
            "[[0 1]\n",
            " [2 3]\n",
            " [4 5]]\n",
            "(3, 2)\n",
            "[4 5]\n",
            "4\n"
          ]
        }
      ]
    },
    {
      "cell_type": "markdown",
      "metadata": {
        "pycharm": {
          "name": "#%% md\n"
        },
        "id": "6rcffAtYIsqp"
      },
      "source": [
        "Accessing a matrix by just specifying the row will return a *1-D vector*."
      ]
    },
    {
      "cell_type": "markdown",
      "metadata": {
        "pycharm": {
          "name": "#%% md\n"
        },
        "id": "EKFRmkc-Isqp"
      },
      "source": [
        "### Slicing\n",
        "- Slicing creates an array of indices using a set of three values (`start:stop:step`).\n",
        "- A subset of values is also valid."
      ]
    },
    {
      "cell_type": "code",
      "source": [
        "a = np.arange(20).reshape(-1,10)\n",
        "\n",
        "print(a)                # [[ 0  1  2  3  4  5  6  7  8  9],[10 11 12 13 14 15 16 17 18 19]]\n",
        "\n",
        "print(a[0][2:7:1])      # [2 3 4 5 6]\n",
        "\n",
        "print(a[:][:])          # [[ 0  1  2  3  4  5  6  7  8  9],[10 11 12 13 14 15 16 17 18 19]]\n",
        "\n",
        "print(a[1][:])          # [10 11 12 13 14 15 16 17 18 19]\n"
      ],
      "metadata": {
        "colab": {
          "base_uri": "https://localhost:8080/"
        },
        "id": "kkDJ5MK1TG9w",
        "outputId": "0be8ab02-af48-4927-c1d8-0549110e7232"
      },
      "execution_count": 4,
      "outputs": [
        {
          "output_type": "stream",
          "name": "stdout",
          "text": [
            "[[ 0  1  2  3  4  5  6  7  8  9]\n",
            " [10 11 12 13 14 15 16 17 18 19]]\n",
            "[2 3 4 5 6]\n",
            "[[ 0  1  2  3  4  5  6  7  8  9]\n",
            " [10 11 12 13 14 15 16 17 18 19]]\n",
            "[10 11 12 13 14 15 16 17 18 19]\n"
          ]
        }
      ]
    }
  ],
  "metadata": {
    "dl_toc_settings": {
      "rndtag": "40015"
    },
    "kernelspec": {
      "display_name": "Python 3",
      "language": "python",
      "name": "python3"
    },
    "language_info": {
      "codemirror_mode": {
        "name": "ipython",
        "version": 3
      },
      "file_extension": ".py",
      "mimetype": "text/x-python",
      "name": "python",
      "nbconvert_exporter": "python",
      "pygments_lexer": "ipython3",
      "version": "3.7.6"
    },
    "toc-autonumbering": false,
    "colab": {
      "provenance": []
    }
  },
  "nbformat": 4,
  "nbformat_minor": 0
}